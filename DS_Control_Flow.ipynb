{
  "nbformat": 4,
  "nbformat_minor": 0,
  "metadata": {
    "colab": {
      "provenance": [],
      "authorship_tag": "ABX9TyMdQX0x5mm7VBy2ou3EiS6w",
      "include_colab_link": true
    },
    "kernelspec": {
      "name": "python3",
      "display_name": "Python 3"
    },
    "language_info": {
      "name": "python"
    }
  },
  "cells": [
    {
      "cell_type": "markdown",
      "metadata": {
        "id": "view-in-github",
        "colab_type": "text"
      },
      "source": [
        "<a href=\"https://colab.research.google.com/github/Femi-Agbeja/ds_tutorial/blob/main/DS_Control_Flow.ipynb\" target=\"_parent\"><img src=\"https://colab.research.google.com/assets/colab-badge.svg\" alt=\"Open In Colab\"/></a>"
      ]
    },
    {
      "cell_type": "markdown",
      "source": [
        "# Control Flow (IF Statements)"
      ],
      "metadata": {
        "id": "GOAm3HaJfeiH"
      }
    },
    {
      "cell_type": "code",
      "execution_count": null,
      "metadata": {
        "id": "4u_aHRIvfbud",
        "colab": {
          "base_uri": "https://localhost:8080/"
        },
        "outputId": "27b5f406-7e9e-4b2a-b1dc-ad6e7bd402bc"
      },
      "outputs": [
        {
          "output_type": "stream",
          "name": "stdout",
          "text": [
            "Femi's Age is: 30\n",
            "Cynthia's Age is: 28\n",
            "Femi is Older than Cynthia\n",
            "I am inside the if condition\n",
            "I am not inside the if condition\n"
          ]
        }
      ],
      "source": [
        "a = int(input(\"Femi's Age is: \")) # the 'int', means that the system will only accept an integer\n",
        "b = int(input(\"Cynthia's Age is: \"))\n",
        "if a > b:\n",
        "  print(\"Femi is Older than Cynthia\")\n",
        "  print(\"I am inside the if condition\") # this will not be printed when the condition is false\n",
        "print(\"I am not inside the if condition\") # this will always be printed regardless the result of the condition\n"
      ]
    },
    {
      "cell_type": "code",
      "source": [
        "# what happens if Cynthia is Older than Femi. This solves that\n",
        "a = int(input(\"Femi's Age is: \"))\n",
        "b = int(input(\"Cynthia's Age is: \"))\n",
        "if a > b:\n",
        "  print(\"Femi is Older than Cynthia\")\n",
        "if b > a:\n",
        "  print(\"Cynthia is Older than Femi\")"
      ],
      "metadata": {
        "colab": {
          "base_uri": "https://localhost:8080/"
        },
        "id": "34uqXRKt6kKg",
        "outputId": "777c01e6-0fe0-4f11-f168-007b3e39c81b"
      },
      "execution_count": null,
      "outputs": [
        {
          "output_type": "stream",
          "name": "stdout",
          "text": [
            "Femi's Age is: 20\n",
            "Cynthia's Age is: 27\n",
            "Cynthia is Older than Femi\n"
          ]
        }
      ]
    },
    {
      "cell_type": "code",
      "source": [
        "# using the IF Else Condition\n",
        "c = int(input(\"Femi's Age is: \"))\n",
        "d = int(input(\"Cynthia's Age is: \"))\n",
        "if c > d:\n",
        "  print(\"Femi is Older than Cynthia\")\n",
        "else:\n",
        "  print(\"Femi is not Older than Cynthia\")"
      ],
      "metadata": {
        "colab": {
          "base_uri": "https://localhost:8080/"
        },
        "id": "EpD7lJr7Khbe",
        "outputId": "f68be589-4cf5-47b5-ec62-9a70e865c5c4"
      },
      "execution_count": null,
      "outputs": [
        {
          "output_type": "stream",
          "name": "stdout",
          "text": [
            "Femi's Age is: 30\n",
            "Cynthia's Age is: 30\n",
            "Femi is not Older than Cynthia\n"
          ]
        }
      ]
    },
    {
      "cell_type": "code",
      "source": [
        "# using the If - Elif - Else Condition\n",
        "\n",
        "e = 30\n",
        "f = 34\n",
        "if e == f:\n",
        "  print(\"e and f are equal\")\n",
        "elif e > f:\n",
        "  print(\"e is greater than f\")\n",
        "else:\n",
        "  print(\"f is greater than e\")"
      ],
      "metadata": {
        "colab": {
          "base_uri": "https://localhost:8080/"
        },
        "id": "nH3y-xQvL0Ci",
        "outputId": "8c5705c7-df68-45f8-9a68-2aab966f1a75"
      },
      "execution_count": null,
      "outputs": [
        {
          "output_type": "stream",
          "name": "stdout",
          "text": [
            "f is greater than e\n"
          ]
        }
      ]
    },
    {
      "cell_type": "code",
      "source": [
        "# Project - Class Grading\n",
        "\n",
        "student_score = float(input(\"Enter Student Score: \"))\n",
        "if student_score >= 85:\n",
        "  print(\"Grade: A\")\n",
        "elif (student_score < 85) and (student_score >= 80):\n",
        "  print(\"Grade: A-\")\n",
        "elif (student_score < 80) and (student_score >= 75):\n",
        "  print(\"Grade: B\")\n",
        "elif (student_score < 75) and (student_score >= 70):\n",
        "  print(\"Grade: B-\")\n",
        "else:\n",
        "  print(\"Below Average\") "
      ],
      "metadata": {
        "colab": {
          "base_uri": "https://localhost:8080/"
        },
        "id": "AWrTtj7ARpYI",
        "outputId": "f8059081-ba1b-417a-dfc8-b3fdcaa13eb6"
      },
      "execution_count": null,
      "outputs": [
        {
          "output_type": "stream",
          "name": "stdout",
          "text": [
            "Enter Student Score: 66.3\n",
            "Below Average\n"
          ]
        }
      ]
    },
    {
      "cell_type": "markdown",
      "source": [
        "# Nested IF's"
      ],
      "metadata": {
        "id": "JVg7YQSuFF3J"
      }
    },
    {
      "cell_type": "code",
      "source": [
        "m = int(input())\n",
        "if m > 10:\n",
        "  print(\"m is greater than 10\")\n",
        "  if m > 20:\n",
        "    print(\"m is also greater than 20\")\n",
        "  else:\n",
        "    print(\"but lesser than or equals to 20\")\n",
        "else:\n",
        "  print(\"m is lesser than or equals to 10\")"
      ],
      "metadata": {
        "colab": {
          "base_uri": "https://localhost:8080/"
        },
        "id": "ZTsdw3J7FEVN",
        "outputId": "8da40b22-15a3-478a-8dcb-5521c414320f"
      },
      "execution_count": null,
      "outputs": [
        {
          "output_type": "stream",
          "name": "stdout",
          "text": [
            "1\n",
            "m is lesser than or equals to 10\n"
          ]
        }
      ]
    },
    {
      "cell_type": "code",
      "source": [
        "\"\"\"\n",
        "User will enter a floating point number, lets say 238.915.\n",
        "your task is to find out the interger portion before the point (In this case, 238)\n",
        "and then check if that integer portion is an even number or not.\n",
        "\"\"\"\n",
        "# Solution\n",
        "\n",
        "x = float(input(\"Enter a Real Number: \")) # this will allow the user to enter a number, the  convert it to float.\n",
        "y = round(x) # this will convert the float to an integer.\n",
        "if x > 0: # if the number is positive\n",
        "  if y > x:\n",
        "    intportion = (y - 1) # if the float was rounded up, this will bring it back to the original number\n",
        "  else:\n",
        "    intportion = y # if the float was not rounded up\n",
        "else: # if the number is less than 0 ( that is negative)\n",
        "  if y < x:\n",
        "    intportion = (y + 1) # if the float was rounded up, this will bring it back to the original numb\n",
        "  else:\n",
        "    intportion = y # if the float was not rounded up\n",
        "\n",
        "if intportion % 2 == 0:\n",
        "  print(\"Even\")\n",
        "else:\n",
        "  print(\"Odd\")\n"
      ],
      "metadata": {
        "colab": {
          "base_uri": "https://localhost:8080/"
        },
        "id": "tkRR6eAuJxq-",
        "outputId": "b0a9255e-aee5-42a2-924b-3d964c2ac383"
      },
      "execution_count": null,
      "outputs": [
        {
          "output_type": "stream",
          "name": "stdout",
          "text": [
            "Enter a Real Number: -7.8\n",
            "-7\n"
          ]
        }
      ]
    },
    {
      "cell_type": "markdown",
      "source": [
        "\n",
        "# Control Flow (While Loops)\n",
        "\n",
        "\n"
      ],
      "metadata": {
        "id": "ov77gKJ5UBtn"
      }
    },
    {
      "cell_type": "code",
      "source": [
        "n = int(input(\"Guess a Number: \"))\n",
        "i = 1\n",
        "while i <= n:\n",
        "  print(\"This is the number guessed by the user: \", i)\n",
        "  print(\"The number guessed raise to the power of 2 is: \", i ** 2)\n",
        "  i+=1\n",
        "print(\"Loop Done\")"
      ],
      "metadata": {
        "colab": {
          "base_uri": "https://localhost:8080/"
        },
        "id": "CvAISvMZUIm0",
        "outputId": "1c4a0032-ae12-4c2e-b78a-1837ca656896"
      },
      "execution_count": null,
      "outputs": [
        {
          "output_type": "stream",
          "name": "stdout",
          "text": [
            "Guess a Number: 10\n",
            "This is the number guessed by the user:  1\n",
            "The number guessed raise to the power of 2 is:  1\n",
            "This is the number guessed by the user:  2\n",
            "The number guessed raise to the power of 2 is:  4\n",
            "This is the number guessed by the user:  3\n",
            "The number guessed raise to the power of 2 is:  9\n",
            "This is the number guessed by the user:  4\n",
            "The number guessed raise to the power of 2 is:  16\n",
            "This is the number guessed by the user:  5\n",
            "The number guessed raise to the power of 2 is:  25\n",
            "This is the number guessed by the user:  6\n",
            "The number guessed raise to the power of 2 is:  36\n",
            "This is the number guessed by the user:  7\n",
            "The number guessed raise to the power of 2 is:  49\n",
            "This is the number guessed by the user:  8\n",
            "The number guessed raise to the power of 2 is:  64\n",
            "This is the number guessed by the user:  9\n",
            "The number guessed raise to the power of 2 is:  81\n",
            "This is the number guessed by the user:  10\n",
            "The number guessed raise to the power of 2 is:  100\n",
            "Loop Done\n"
          ]
        }
      ]
    },
    {
      "cell_type": "code",
      "source": [
        "# system to output all the even number between 0 and the number inputted number\n",
        "\n",
        "t = int(input(\"max interation :\"))\n",
        "u = 1 \n",
        "while u <= t:\n",
        "  if u % 2 == 0:\n",
        "    print(u)\n",
        "  else:\n",
        "    pass # the tells the program to do nothing\n",
        "  u += 1\n",
        "print(\"done\") "
      ],
      "metadata": {
        "colab": {
          "base_uri": "https://localhost:8080/"
        },
        "id": "xDn3XRxsSQr8",
        "outputId": "ddeaa6cb-e615-40c2-d7d1-a27452e3e38b"
      },
      "execution_count": null,
      "outputs": [
        {
          "output_type": "stream",
          "name": "stdout",
          "text": [
            "max interation :10\n",
            "2\n",
            "4\n",
            "6\n",
            "8\n",
            "10\n",
            "done\n"
          ]
        }
      ]
    },
    {
      "cell_type": "markdown",
      "source": [
        "\n",
        "# Control Flow (Loops: Break and Continue)"
      ],
      "metadata": {
        "id": "hJe4TypbUopJ"
      }
    },
    {
      "cell_type": "code",
      "source": [
        "j = 10\n",
        "q = 1\n",
        "while True:\n",
        "  if q%9 == 0:\n",
        "    print(q)\n",
        "    break\n",
        "  else:\n",
        "    print(\"Else Part\")\n",
        "    q += 1"
      ],
      "metadata": {
        "colab": {
          "base_uri": "https://localhost:8080/"
        },
        "id": "4mB3JuJdUyM1",
        "outputId": "a6d215ef-67aa-456c-abcd-e7cfc4f7df35"
      },
      "execution_count": null,
      "outputs": [
        {
          "output_type": "stream",
          "name": "stdout",
          "text": [
            "Else Part\n",
            "Else Part\n",
            "Else Part\n",
            "Else Part\n",
            "Else Part\n",
            "Else Part\n",
            "Else Part\n",
            "Else Part\n",
            "9\n"
          ]
        }
      ]
    },
    {
      "cell_type": "code",
      "source": [
        "m = 10\n",
        "w = 1\n",
        "while True:\n",
        "  if w%9 != 0:\n",
        "    print(\"inside the if statement\")\n",
        "    w += 1\n",
        "    continue\n",
        "  print(\"Something else to show when the if statement is true\")\n",
        "  break\n",
        "print(\"done\")"
      ],
      "metadata": {
        "colab": {
          "base_uri": "https://localhost:8080/"
        },
        "id": "EB4SwvAgWw8Y",
        "outputId": "7a3ecce2-1a8a-4725-b99d-8c66b390a051"
      },
      "execution_count": null,
      "outputs": [
        {
          "output_type": "stream",
          "name": "stdout",
          "text": [
            "inside the if statement\n",
            "inside the if statement\n",
            "inside the if statement\n",
            "inside the if statement\n",
            "inside the if statement\n",
            "inside the if statement\n",
            "inside the if statement\n",
            "inside the if statement\n",
            "Something else to show when the if statement is true\n",
            "done\n"
          ]
        }
      ]
    },
    {
      "cell_type": "markdown",
      "source": [
        "# Control Flow (While Loops)"
      ],
      "metadata": {
        "id": "sQ9IbkxWcl2x"
      }
    },
    {
      "cell_type": "code",
      "source": [
        "L = []\n",
        "for i in range(10):\n",
        "  print(i + 1)\n",
        "  L.append(i ** 2)\n",
        "print(L)"
      ],
      "metadata": {
        "colab": {
          "base_uri": "https://localhost:8080/"
        },
        "id": "J76FYZs6bNWe",
        "outputId": "88091ff6-c408-4a71-eee9-e68258c7ac01"
      },
      "execution_count": null,
      "outputs": [
        {
          "output_type": "stream",
          "name": "stdout",
          "text": [
            "1\n",
            "2\n",
            "3\n",
            "4\n",
            "5\n",
            "6\n",
            "7\n",
            "8\n",
            "9\n",
            "10\n",
            "[0, 1, 4, 9, 16, 25, 36, 49, 64, 81]\n"
          ]
        }
      ]
    },
    {
      "cell_type": "code",
      "source": [
        "G = []\n",
        "for d in range(1, 10, 2):\n",
        "  print(d)\n",
        "  G.append(d ** 2)\n",
        "print(G)"
      ],
      "metadata": {
        "colab": {
          "base_uri": "https://localhost:8080/"
        },
        "id": "KNRw-dDPd3x5",
        "outputId": "1d9ac7fe-4b03-49c8-eec0-b82f1692b942"
      },
      "execution_count": null,
      "outputs": [
        {
          "output_type": "stream",
          "name": "stdout",
          "text": [
            "1\n",
            "3\n",
            "5\n",
            "7\n",
            "9\n",
            "[1, 9, 25, 49, 81]\n"
          ]
        }
      ]
    },
    {
      "cell_type": "code",
      "source": [
        "S = {\"apple\", 5.4, \"beans\"}\n",
        "for x in S:\n",
        "  print(x)\n",
        "else:\n",
        "  print(\"loop terminate with success\")\n",
        "print(\"outside the loop\")"
      ],
      "metadata": {
        "colab": {
          "base_uri": "https://localhost:8080/"
        },
        "id": "fuI0oGb1iV23",
        "outputId": "75a5043d-0b92-4142-bb9f-1ee8480c31a3"
      },
      "execution_count": null,
      "outputs": [
        {
          "output_type": "stream",
          "name": "stdout",
          "text": [
            "beans\n",
            "5.4\n",
            "apple\n",
            "loop terminate with success\n",
            "outside the loop\n"
          ]
        }
      ]
    },
    {
      "cell_type": "code",
      "source": [
        "D = {\"A\":0, \"B\":15, \"C\":34} # this is a dictionary data type containing key-value pair \n",
        "for x in D: # the x is representing both the key and the value in the dictionary\n",
        "  print(x, D[x])"
      ],
      "metadata": {
        "colab": {
          "base_uri": "https://localhost:8080/"
        },
        "id": "jLL0JkmFko0e",
        "outputId": "2a75b9df-ac2b-4dcd-afdb-e3e0595f585a"
      },
      "execution_count": 3,
      "outputs": [
        {
          "output_type": "stream",
          "name": "stdout",
          "text": [
            "A 0\n",
            "B 15\n",
            "C 34\n"
          ]
        }
      ]
    },
    {
      "cell_type": "code",
      "source": [
        "\"\"\"\n",
        "Given the list of numbers [1, 2, 4, -4, -7, 8, 3, 5, 12], make another list\n",
        "that contains all the items in the first list sorted. for minimum to maximum\n",
        "\"\"\"\n",
        "\n",
        "L = [1, 2, 4, -4, -7, 8, 3, 5, 12]\n",
        "NL = L.sort()\n",
        "print(NL)"
      ],
      "metadata": {
        "colab": {
          "base_uri": "https://localhost:8080/"
        },
        "id": "fS96yNWrsSS3",
        "outputId": "3c32a725-7d36-44b3-a171-eb7101bd6e05"
      },
      "execution_count": 5,
      "outputs": [
        {
          "output_type": "stream",
          "name": "stdout",
          "text": [
            "None\n"
          ]
        }
      ]
    }
  ]
}