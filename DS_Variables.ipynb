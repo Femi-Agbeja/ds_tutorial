{
  "nbformat": 4,
  "nbformat_minor": 0,
  "metadata": {
    "colab": {
      "provenance": [],
      "authorship_tag": "ABX9TyNhpi447oIlev+FKqROJ51W",
      "include_colab_link": true
    },
    "kernelspec": {
      "name": "python3",
      "display_name": "Python 3"
    },
    "language_info": {
      "name": "python"
    }
  },
  "cells": [
    {
      "cell_type": "markdown",
      "metadata": {
        "id": "view-in-github",
        "colab_type": "text"
      },
      "source": [
        "<a href=\"https://colab.research.google.com/github/Femi-Agbeja/ds_tutorial/blob/main/DS_Variables.ipynb\" target=\"_parent\"><img src=\"https://colab.research.google.com/assets/colab-badge.svg\" alt=\"Open In Colab\"/></a>"
      ]
    },
    {
      "cell_type": "markdown",
      "source": [
        "# Variables"
      ],
      "metadata": {
        "id": "fQ6xtv-UBa98"
      }
    },
    {
      "cell_type": "code",
      "execution_count": null,
      "metadata": {
        "id": "m_o-WonRBNvI"
      },
      "outputs": [],
      "source": [
        "x = 5\n",
        "y = 40\n",
        "xy = 2"
      ]
    },
    {
      "cell_type": "code",
      "source": [
        "# checking all the variables, data types and values in memory\n",
        "%whos"
      ],
      "metadata": {
        "colab": {
          "base_uri": "https://localhost:8080/"
        },
        "id": "UuG_wAveByWa",
        "outputId": "d3dfc400-2b1e-4056-93df-e0fdb040e489"
      },
      "execution_count": null,
      "outputs": [
        {
          "output_type": "stream",
          "name": "stdout",
          "text": [
            "Variable   Type    Data/Info\n",
            "----------------------------\n",
            "x          int     5\n",
            "xy         int     2\n",
            "y          int     40\n"
          ]
        }
      ]
    },
    {
      "cell_type": "code",
      "source": [
        "# checking the data type of a particular variable\n",
        "print(type(x))"
      ],
      "metadata": {
        "colab": {
          "base_uri": "https://localhost:8080/"
        },
        "id": "ZvyLW7DPCKUZ",
        "outputId": "3ff52fb3-6322-4718-dadf-b6807367de34"
      },
      "execution_count": null,
      "outputs": [
        {
          "output_type": "stream",
          "name": "stdout",
          "text": [
            "<class 'int'>\n"
          ]
        }
      ]
    },
    {
      "cell_type": "code",
      "source": [
        "# this will change the value (and datatype) of variable x\n",
        "\n",
        "x = 5.7\n",
        "%whos"
      ],
      "metadata": {
        "colab": {
          "base_uri": "https://localhost:8080/"
        },
        "id": "cz-M1eb_Co6Q",
        "outputId": "46aa38ca-8f46-4309-b8f4-c3ec1c1709e5"
      },
      "execution_count": null,
      "outputs": [
        {
          "output_type": "stream",
          "name": "stdout",
          "text": [
            "Variable   Type     Data/Info\n",
            "-----------------------------\n",
            "x          float    5.7\n",
            "xy         int      2\n",
            "y          int      40\n"
          ]
        }
      ]
    },
    {
      "cell_type": "code",
      "source": [
        "print(type(x))"
      ],
      "metadata": {
        "colab": {
          "base_uri": "https://localhost:8080/"
        },
        "id": "-HecOK9CC7-E",
        "outputId": "68339f6a-3231-430f-f724-aea057292714"
      },
      "execution_count": null,
      "outputs": [
        {
          "output_type": "stream",
          "name": "stdout",
          "text": [
            "<class 'float'>\n"
          ]
        }
      ]
    },
    {
      "cell_type": "code",
      "source": [
        "# creating a multiple variables and assigning values to them\n",
        "\n",
        "a,b,c,d,e,f = 50,3.7,-30,4,79,34.6\n",
        "\n",
        "# checking all variables, values and datatype in memory\n",
        "\n",
        "%whos"
      ],
      "metadata": {
        "colab": {
          "base_uri": "https://localhost:8080/"
        },
        "id": "ln7rsk6LDJsc",
        "outputId": "97418bb3-3885-4033-bcbf-2b6fec43f0a1"
      },
      "execution_count": null,
      "outputs": [
        {
          "output_type": "stream",
          "name": "stdout",
          "text": [
            "Variable   Type     Data/Info\n",
            "-----------------------------\n",
            "a          int      50\n",
            "b          float    3.7\n",
            "c          int      -30\n",
            "d          int      4\n",
            "e          int      79\n",
            "f          float    34.6\n",
            "x          float    5.7\n",
            "xy         int      2\n",
            "y          int      40\n"
          ]
        }
      ]
    },
    {
      "cell_type": "code",
      "source": [
        "# Deleting a variable\n",
        "\n",
        "del xy"
      ],
      "metadata": {
        "id": "YCKdklD4D4eM"
      },
      "execution_count": null,
      "outputs": []
    },
    {
      "cell_type": "code",
      "source": [
        "%whos"
      ],
      "metadata": {
        "colab": {
          "base_uri": "https://localhost:8080/"
        },
        "id": "uEQMz664EAmv",
        "outputId": "e46fa102-1af0-4ccc-81b8-3aac62555ac2"
      },
      "execution_count": null,
      "outputs": [
        {
          "output_type": "stream",
          "name": "stdout",
          "text": [
            "Variable   Type     Data/Info\n",
            "-----------------------------\n",
            "a          int      50\n",
            "b          float    3.7\n",
            "c          int      -30\n",
            "d          int      4\n",
            "e          int      79\n",
            "f          float    34.6\n",
            "x          float    5.7\n",
            "y          int      40\n"
          ]
        }
      ]
    },
    {
      "cell_type": "code",
      "source": [
        "# complex data type\n",
        "\n",
        "xy = 2+3j"
      ],
      "metadata": {
        "id": "jCurZNOlEUQA"
      },
      "execution_count": null,
      "outputs": []
    },
    {
      "cell_type": "code",
      "source": [
        "print(type(xy))"
      ],
      "metadata": {
        "colab": {
          "base_uri": "https://localhost:8080/"
        },
        "id": "gJZWWek6Ei_c",
        "outputId": "6fd8b526-f922-4403-c7ae-56556009a116"
      },
      "execution_count": null,
      "outputs": [
        {
          "output_type": "stream",
          "name": "stdout",
          "text": [
            "<class 'complex'>\n"
          ]
        }
      ]
    },
    {
      "cell_type": "code",
      "source": [
        "# string variables\n",
        "\n",
        "s = \"hello, how are you doing today\"\n",
        "print(type(s))"
      ],
      "metadata": {
        "colab": {
          "base_uri": "https://localhost:8080/"
        },
        "id": "kBL9RPRkErIs",
        "outputId": "cf6d707a-3782-4a66-aaf2-6c685ed31c0f"
      },
      "execution_count": null,
      "outputs": [
        {
          "output_type": "stream",
          "name": "stdout",
          "text": [
            "<class 'str'>\n"
          ]
        }
      ]
    },
    {
      "cell_type": "markdown",
      "source": [
        "# Operators"
      ],
      "metadata": {
        "id": "dQXKa8oTFRYA"
      }
    },
    {
      "cell_type": "code",
      "source": [
        "# summing two variables together\n",
        "\n",
        "ab = a+b\n",
        "print(ab)"
      ],
      "metadata": {
        "colab": {
          "base_uri": "https://localhost:8080/"
        },
        "id": "mD2nWTHEFeCy",
        "outputId": "c28dc7c8-8db1-4a71-ac9e-971dc0765d16"
      },
      "execution_count": null,
      "outputs": [
        {
          "output_type": "stream",
          "name": "stdout",
          "text": [
            "53.7\n"
          ]
        }
      ]
    },
    {
      "cell_type": "code",
      "source": [
        "print(type(ab))"
      ],
      "metadata": {
        "colab": {
          "base_uri": "https://localhost:8080/"
        },
        "id": "_-obY4tiHUBm",
        "outputId": "43cf5adf-9545-41a4-fbe9-fcf59b939db7"
      },
      "execution_count": null,
      "outputs": [
        {
          "output_type": "stream",
          "name": "stdout",
          "text": [
            "<class 'float'>\n"
          ]
        }
      ]
    },
    {
      "cell_type": "code",
      "source": [
        "v = ((a+d)**3)/4\n",
        "\n",
        "print(v)"
      ],
      "metadata": {
        "colab": {
          "base_uri": "https://localhost:8080/"
        },
        "id": "EF8w6-vnH59X",
        "outputId": "000c791f-e308-48dc-fcae-45e2ddc89b89"
      },
      "execution_count": null,
      "outputs": [
        {
          "output_type": "stream",
          "name": "stdout",
          "text": [
            "39366.0\n"
          ]
        }
      ]
    },
    {
      "cell_type": "code",
      "source": [
        "# Concatenating strings\n",
        "\n",
        "s1 = \"Hello\"\n",
        "s2 = \"World\"\n",
        "s3 = \" \"\n",
        "s = s1 + s3 + s2\n",
        "print(s)"
      ],
      "metadata": {
        "colab": {
          "base_uri": "https://localhost:8080/"
        },
        "id": "g8jYrpKZIYuB",
        "outputId": "ee73f1f5-a6a4-4172-99fc-2c2c10ff31f7"
      },
      "execution_count": null,
      "outputs": [
        {
          "output_type": "stream",
          "name": "stdout",
          "text": [
            "Hello World\n"
          ]
        }
      ]
    },
    {
      "cell_type": "code",
      "source": [
        "10 // 3"
      ],
      "metadata": {
        "colab": {
          "base_uri": "https://localhost:8080/"
        },
        "id": "mULB9a2oI8JY",
        "outputId": "a573d600-dc67-4abb-8c4b-d19b36ce7547"
      },
      "execution_count": null,
      "outputs": [
        {
          "output_type": "execute_result",
          "data": {
            "text/plain": [
              "3"
            ]
          },
          "metadata": {},
          "execution_count": 20
        }
      ]
    },
    {
      "cell_type": "code",
      "source": [
        "10 / 3"
      ],
      "metadata": {
        "colab": {
          "base_uri": "https://localhost:8080/"
        },
        "id": "j2-BTQXgI98Z",
        "outputId": "329e2460-d52c-437e-a521-e294cf1b1e68"
      },
      "execution_count": null,
      "outputs": [
        {
          "output_type": "execute_result",
          "data": {
            "text/plain": [
              "3.3333333333333335"
            ]
          },
          "metadata": {},
          "execution_count": 21
        }
      ]
    },
    {
      "cell_type": "code",
      "source": [
        "# printing the last output not stored at a variable\n",
        "\n",
        "_"
      ],
      "metadata": {
        "colab": {
          "base_uri": "https://localhost:8080/"
        },
        "id": "0JTOMpEMJJX1",
        "outputId": "2d09e341-3862-4dc4-ec7e-8eb94f2853a2"
      },
      "execution_count": null,
      "outputs": [
        {
          "output_type": "execute_result",
          "data": {
            "text/plain": [
              "3.3333333333333335"
            ]
          },
          "metadata": {},
          "execution_count": 22
        }
      ]
    }
  ]
}